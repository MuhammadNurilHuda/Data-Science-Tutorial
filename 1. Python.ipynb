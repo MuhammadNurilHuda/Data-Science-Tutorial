{
 "cells": [
  {
   "attachments": {},
   "cell_type": "markdown",
   "metadata": {},
   "source": [
    "# Python Installation"
   ]
  },
  {
   "attachments": {},
   "cell_type": "markdown",
   "metadata": {},
   "source": [
    "You can see documentation for python installation in python website https://www.python.org/downloads/\n",
    "\n",
    "If successfull, you can check the python version in terminal with `python --version`"
   ]
  },
  {
   "cell_type": "code",
   "execution_count": 3,
   "metadata": {},
   "outputs": [
    {
     "name": "stdout",
     "output_type": "stream",
     "text": [
      "Python 3.10.9\n"
     ]
    }
   ],
   "source": [
    "!python --version"
   ]
  },
  {
   "cell_type": "code",
   "execution_count": 6,
   "metadata": {},
   "outputs": [
    {
     "name": "stdout",
     "output_type": "stream",
     "text": [
      "Hello, world !\n"
     ]
    }
   ],
   "source": [
    "print (\"Hello, world !\")"
   ]
  },
  {
   "attachments": {},
   "cell_type": "markdown",
   "metadata": {},
   "source": [
    "# Python Syntax"
   ]
  },
  {
   "attachments": {},
   "cell_type": "markdown",
   "metadata": {},
   "source": [
    "## Python Statement"
   ]
  },
  {
   "attachments": {},
   "cell_type": "markdown",
   "metadata": {},
   "source": [
    "What is statement ? Statement is an instruction that will be executed by python interpreter, for example :"
   ]
  },
  {
   "cell_type": "code",
   "execution_count": 7,
   "metadata": {},
   "outputs": [
    {
     "name": "stdout",
     "output_type": "stream",
     "text": [
      "Python is one of the most easy Programming Language\n"
     ]
    }
   ],
   "source": [
    "print(\"Python is one of the most easy Programming Language\")"
   ]
  },
  {
   "attachments": {},
   "cell_type": "markdown",
   "metadata": {},
   "source": [
    "Python don't use `;` in the end of code, but if we want to write more than one statement in one row, we can use `;`, for example :"
   ]
  },
  {
   "cell_type": "code",
   "execution_count": 8,
   "metadata": {},
   "outputs": [
    {
     "name": "stdout",
     "output_type": "stream",
     "text": [
      "Programming with python \n",
      "I Love Python\n"
     ]
    }
   ],
   "source": [
    "print(\"Programming with python \"); print(\"I Love Python\")"
   ]
  },
  {
   "attachments": {},
   "cell_type": "markdown",
   "metadata": {},
   "source": [
    "But according to *Python Style Guide*, it's not recommended to write more than one statement in one row"
   ]
  },
  {
   "attachments": {},
   "cell_type": "markdown",
   "metadata": {},
   "source": [
    "## Python String"
   ]
  },
  {
   "attachments": {},
   "cell_type": "markdown",
   "metadata": {},
   "source": [
    "String is a collection of characters that enclosed within quotes. String can be used using single quotes `'` or double-quotes `\"`. For example :"
   ]
  },
  {
   "cell_type": "code",
   "execution_count": 24,
   "metadata": {},
   "outputs": [
    {
     "name": "stdout",
     "output_type": "stream",
     "text": [
      "Python is the easiest programming language\n"
     ]
    }
   ],
   "source": [
    "text = 'Python is the easiest programming language'\n",
    "\n",
    "print(text)"
   ]
  },
  {
   "attachments": {},
   "cell_type": "markdown",
   "metadata": {},
   "source": [
    "or"
   ]
  },
  {
   "cell_type": "code",
   "execution_count": 25,
   "metadata": {},
   "outputs": [
    {
     "name": "stdout",
     "output_type": "stream",
     "text": [
      "Python is the easiest programming language\n"
     ]
    }
   ],
   "source": [
    "text = \"Python is the easiest programming language\"\n",
    "print(text)"
   ]
  },
  {
   "attachments": {},
   "cell_type": "markdown",
   "metadata": {},
   "source": [
    "Or we can used triple quotes or double-quotes"
   ]
  },
  {
   "cell_type": "code",
   "execution_count": 30,
   "metadata": {},
   "outputs": [
    {
     "name": "stdout",
     "output_type": "stream",
     "text": [
      "\n",
      "I love python\n",
      "Python is the easiest Programming Language\n",
      "\n"
     ]
    }
   ],
   "source": [
    "text = \\\n",
    "'''\n",
    "I love python\n",
    "Python is the easiest Programming Language\n",
    "'''\n",
    "\n",
    "print(text)"
   ]
  },
  {
   "attachments": {},
   "cell_type": "markdown",
   "metadata": {},
   "source": [
    "Python provides several built-in methods and functions for working with strings, such as `len()`, `upper()`, `lower()`, `strip()`, `find()`, `replace()`, `split()`, and many more."
   ]
  },
  {
   "attachments": {},
   "cell_type": "markdown",
   "metadata": {},
   "source": [
    "### `len()`\n",
    "\n",
    "`len()` is used to return string length"
   ]
  },
  {
   "cell_type": "code",
   "execution_count": 27,
   "metadata": {},
   "outputs": [
    {
     "name": "stdout",
     "output_type": "stream",
     "text": [
      "the length of string is :  58\n"
     ]
    }
   ],
   "source": [
    "print(\"the length of string is : \", len(text))"
   ]
  },
  {
   "attachments": {},
   "cell_type": "markdown",
   "metadata": {},
   "source": [
    "### `upper()`\n",
    "\n",
    "`upper()` is used to return all character in string in upper case"
   ]
  },
  {
   "cell_type": "code",
   "execution_count": 28,
   "metadata": {},
   "outputs": [
    {
     "name": "stdout",
     "output_type": "stream",
     "text": [
      "\n",
      "I LOVE PYTHON\n",
      "PYTHON IS THE EASIEST PROGRAMMING LANGUAGE\n",
      "\n"
     ]
    }
   ],
   "source": [
    "print(text.upper())"
   ]
  },
  {
   "attachments": {},
   "cell_type": "markdown",
   "metadata": {},
   "source": [
    "### `lower()`\n",
    "\n",
    "`lower()` is used to return all character in string in lower case"
   ]
  },
  {
   "cell_type": "code",
   "execution_count": 31,
   "metadata": {},
   "outputs": [
    {
     "name": "stdout",
     "output_type": "stream",
     "text": [
      "\n",
      "i love python\n",
      "python is the easiest programming language\n",
      "\n"
     ]
    }
   ],
   "source": [
    "print(text.lower())"
   ]
  },
  {
   "attachments": {},
   "cell_type": "markdown",
   "metadata": {},
   "source": [
    "### `strip()`\n",
    "`strip()` is used to returns a copy of the string with whitespace characters removed from the start and end"
   ]
  },
  {
   "cell_type": "code",
   "execution_count": 34,
   "metadata": {},
   "outputs": [
    {
     "name": "stdout",
     "output_type": "stream",
     "text": [
      "without strip :           Python is easy        \n",
      "with strip :  Python is easy\n"
     ]
    }
   ],
   "source": [
    "text = \"         Python is easy        \"\n",
    "print(\"without strip : \",text)\n",
    "print(\"with strip : \", text.strip())"
   ]
  },
  {
   "attachments": {},
   "cell_type": "markdown",
   "metadata": {},
   "source": [
    "### `find()`\n",
    "`find()` is used to returns the index of the substring being searched for in the string. If the substring is not found, returns -1"
   ]
  },
  {
   "cell_type": "code",
   "execution_count": 39,
   "metadata": {},
   "outputs": [
    {
     "name": "stdout",
     "output_type": "stream",
     "text": [
      "The word `is`, is locacted in index :  7\n",
      "The word `do`, is locacted in index :  -1\n"
     ]
    }
   ],
   "source": [
    "text = \"Python is easy\"\n",
    "print(\"The word `is`, is locacted in index : \",text.find(\"is\"))\n",
    "print(\"The word `do`, is locacted in index : \",text.find(\"do\"))"
   ]
  },
  {
   "attachments": {},
   "cell_type": "markdown",
   "metadata": {},
   "source": [
    "### `replace()`\n",
    "`replace()` is used to replace each occurrence of a substring with another substring in a string"
   ]
  },
  {
   "cell_type": "code",
   "execution_count": 40,
   "metadata": {},
   "outputs": [
    {
     "name": "stdout",
     "output_type": "stream",
     "text": [
      "Python is the best\n"
     ]
    }
   ],
   "source": [
    "text = \"Python is easy\"\n",
    "print(text.replace(\"easy\", \"the best\"))"
   ]
  },
  {
   "attachments": {},
   "cell_type": "markdown",
   "metadata": {},
   "source": [
    "### `split()`\n",
    "`split()` is used to break a string into pieces based on a certain separator, which is then stored in a list"
   ]
  },
  {
   "cell_type": "code",
   "execution_count": 41,
   "metadata": {},
   "outputs": [
    {
     "name": "stdout",
     "output_type": "stream",
     "text": [
      "['Python', 'is', 'easy', 'and', 'beginnere', 'friendly', '!']\n"
     ]
    }
   ],
   "source": [
    "text = \"Python is easy and beginnere friendly !\"\n",
    "print(text.split(\" \"))"
   ]
  },
  {
   "attachments": {},
   "cell_type": "markdown",
   "metadata": {},
   "source": [
    "and many more !!!! you can find more string built-in method in https://www.geeksforgeeks.org/python-string-methods/"
   ]
  },
  {
   "attachments": {},
   "cell_type": "markdown",
   "metadata": {},
   "source": [
    "## Case in Python\n",
    "Python is case sensitive, that means variable `text` and `Text` are different"
   ]
  },
  {
   "cell_type": "code",
   "execution_count": 42,
   "metadata": {},
   "outputs": [
    {
     "name": "stdout",
     "output_type": "stream",
     "text": [
      "I love python Python is beginner friendly\n"
     ]
    }
   ],
   "source": [
    "text = 'I love python'\n",
    "Text = 'Python is beginner friendly'\n",
    "\n",
    "print(text, Text)"
   ]
  },
  {
   "attachments": {},
   "cell_type": "markdown",
   "metadata": {},
   "source": [
    "### Case Style\n",
    "According to [Google's style guide](https://google.github.io/styleguide/pyguide.html) recommendations, the following is an example of writing a suggested case :"
   ]
  },
  {
   "cell_type": "code",
   "execution_count": null,
   "metadata": {},
   "outputs": [],
   "source": [
    "# snake_case used for :\n",
    "module_name, package_name, method_name, function_name, , global_var_name, instance_var_name, function_parameter_name, local_var_name\n",
    "\n",
    "# CamelCase used for :\n",
    "ClassName, ExceptionName\n",
    "\n",
    "# ALL_CAPS used for :\n",
    "GLOBAL_CONSTANT_NAME"
   ]
  },
  {
   "attachments": {},
   "cell_type": "markdown",
   "metadata": {},
   "source": [
    "## Python Indentation\n",
    "Indentation refers to the white space or blank characters at the beginning of a code line. The indentation is used to indicate the level of grouping of the code statements. It is a way of specifying the scope or block of code in Python.\n",
    "\n",
    "![indent](assets\\indent.png)"
   ]
  },
  {
   "attachments": {},
   "cell_type": "markdown",
   "metadata": {},
   "source": [
    "## Python Comment\n",
    "Comments are lines of code that will not be executed.\n",
    "\n",
    "Comments are used to provide additional information and to disable code.\n",
    "\n",
    "There are several ways to write comments in Python programming."
   ]
  },
  {
   "attachments": {},
   "cell_type": "markdown",
   "metadata": {},
   "source": [
    "### 1. Use (`#`)"
   ]
  },
  {
   "cell_type": "code",
   "execution_count": 2,
   "metadata": {},
   "outputs": [],
   "source": [
    "# This is comment"
   ]
  },
  {
   "attachments": {},
   "cell_type": "markdown",
   "metadata": {},
   "source": [
    "### 2. Use quotes (`''`)"
   ]
  },
  {
   "cell_type": "code",
   "execution_count": 1,
   "metadata": {},
   "outputs": [
    {
     "data": {
      "text/plain": [
       "'This is comment'"
      ]
     },
     "execution_count": 1,
     "metadata": {},
     "output_type": "execute_result"
    }
   ],
   "source": [
    "'This is comment'"
   ]
  },
  {
   "attachments": {},
   "cell_type": "markdown",
   "metadata": {},
   "source": [
    "### 3. Use triple quotes (`\"\"\"`)"
   ]
  },
  {
   "cell_type": "code",
   "execution_count": 3,
   "metadata": {},
   "outputs": [
    {
     "data": {
      "text/plain": [
       "' \\nThis is Comment\\nit is usually used for writing documentation\\n\\n'"
      ]
     },
     "execution_count": 3,
     "metadata": {},
     "output_type": "execute_result"
    }
   ],
   "source": [
    "''' \n",
    "This is Comment\n",
    "it is usually used for writing documentation\n",
    "\n",
    "'''"
   ]
  }
 ],
 "metadata": {
  "kernelspec": {
   "display_name": "base",
   "language": "python",
   "name": "python3"
  },
  "language_info": {
   "codemirror_mode": {
    "name": "ipython",
    "version": 3
   },
   "file_extension": ".py",
   "mimetype": "text/x-python",
   "name": "python",
   "nbconvert_exporter": "python",
   "pygments_lexer": "ipython3",
   "version": "3.10.9"
  },
  "orig_nbformat": 4
 },
 "nbformat": 4,
 "nbformat_minor": 2
}

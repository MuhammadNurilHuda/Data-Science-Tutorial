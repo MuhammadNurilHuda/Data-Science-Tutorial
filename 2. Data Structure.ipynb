{
 "cells": [
  {
   "attachments": {},
   "cell_type": "markdown",
   "metadata": {},
   "source": [
    "A data structure is a way of organizing data so that it can be easily accessed and manipulated. Python has a variety of built-in data structures, including lists, tuples, dictionaries, and sets.\n",
    "\n",
    "- Lists are a sequence of elements that can be accessed by index. Lists are mutable, meaning that they can be changed after they are created.\n",
    "- Tuples are similar to lists, but they are immutable. This means that they cannot be changed after they are created.\n",
    "- Dictionaries are a collection of key-value pairs. Keys are unique, and they can be used to access the corresponding value. Dictionaries are mutable.\n",
    "- Sets are a collection of unique elements. Sets are unordered, and they cannot contain duplicate elements. Sets are mutable.\n",
    "\n",
    "In addition to these built-in data structures, Python also allows programmers to create their own data structures. This can be done by using classes. Classes are a way of creating custom data types that can be used to store and manipulate data.\n",
    "\n",
    "Data structures are an essential part of any programming language. They provide a way to organize data in a way that makes it easy to access and manipulate. By understanding the different types of data structures available in Python, programmers can choose the right data structure for the job.\n",
    "\n",
    "Here are some examples of how data structures can be used in Python:\n",
    "\n",
    "- Lists can be used to store a collection of data, such as a list of names or a list of numbers.\n",
    "- Tuples can be used to store a fixed collection of data that cannot be changed, such as the coordinates of a point or the colors of a rainbow.\n",
    "- Dictionaries can be used to store a collection of key-value pairs, such as a phone book or a shopping list.\n",
    "- Sets can be used to store a collection of unique elements, such as the set of all prime numbers or the set of all vowels."
   ]
  },
  {
   "cell_type": "code",
   "execution_count": null,
   "metadata": {},
   "outputs": [],
   "source": []
  }
 ],
 "metadata": {
  "language_info": {
   "name": "python"
  },
  "orig_nbformat": 4
 },
 "nbformat": 4,
 "nbformat_minor": 2
}

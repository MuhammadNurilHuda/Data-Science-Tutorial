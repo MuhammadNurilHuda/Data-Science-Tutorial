{
 "cells": [
  {
   "attachments": {},
   "cell_type": "markdown",
   "metadata": {},
   "source": [
    "# Data Structure"
   ]
  },
  {
   "attachments": {},
   "cell_type": "markdown",
   "metadata": {},
   "source": [
    "A data structure is a way of organizing data so that it can be easily accessed and manipulated. Python has a variety of built-in data structures, including lists, tuples, dictionaries, and sets.\n",
    "\n",
    "- Lists are a sequence of elements that can be accessed by index. Lists are mutable, meaning that they can be changed after they are created.\n",
    "- Tuples are similar to lists, but they are immutable. This means that they cannot be changed after they are created.\n",
    "- Dictionaries are a collection of key-value pairs. Keys are unique, and they can be used to access the corresponding value. Dictionaries are mutable.\n",
    "- Sets are a collection of unique elements. Sets are unordered, and they cannot contain duplicate elements. Sets are mutable.\n",
    "\n",
    "In addition to these built-in data structures, Python also allows programmers to create their own data structures. This can be done by using classes. Classes are a way of creating custom data types that can be used to store and manipulate data.\n",
    "\n",
    "Data structures are an essential part of any programming language. They provide a way to organize data in a way that makes it easy to access and manipulate. By understanding the different types of data structures available in Python, programmers can choose the right data structure for the job.\n",
    "\n",
    "Here are some examples of how data structures can be used in Python:\n",
    "\n",
    "- Lists can be used to store a collection of data, such as a list of names or a list of numbers.\n",
    "- Tuples can be used to store a fixed collection of data that cannot be changed, such as the coordinates of a point or the colors of a rainbow.\n",
    "- Dictionaries can be used to store a collection of key-value pairs, such as a phone book or a shopping list.\n",
    "- Sets can be used to store a collection of unique elements, such as the set of all prime numbers or the set of all vowels.\n",
    "\n",
    "Main source : https://www.geeksforgeeks.org/python-data-structures/"
   ]
  },
  {
   "attachments": {},
   "cell_type": "markdown",
   "metadata": {},
   "source": [
    "# Lists"
   ]
  },
  {
   "attachments": {},
   "cell_type": "markdown",
   "metadata": {},
   "source": [
    "\n",
    "A list is a data structure in Python that allows you to store a collection of data items. Lists are ordered, which means that the items in the list have a specific order. Lists can also be indexed, which means that you can access individual items in the list by their index number.\n",
    "\n",
    "The implementation of Python List is similar to Vectors in C++ or ArrayList in JAVA. The costly operation is inserting or deleting the element from the beginning of the List as all the elements are needed to be shifted. Insertion and deletion at the end of the list can also become costly in the case where the preallocated memory becomes full. (geeksforgeeks.org)\n",
    "\n",
    "Lists are a very versatile data structure in Python. They can be used to store a wide variety of data, and they can be used to perform a variety of operations.\n",
    "\n",
    "To create a list in Python, you use square brackets []. The items in the list are separated by commas. For example :"
   ]
  },
  {
   "cell_type": "code",
   "execution_count": 1,
   "metadata": {},
   "outputs": [
    {
     "name": "stdout",
     "output_type": "stream",
     "text": [
      "[1, 2, 'a', 'John', 3.14]\n"
     ]
    }
   ],
   "source": [
    "my_list = [1, 2, 'a', 'John', 3.14]\n",
    "print(my_list)"
   ]
  },
  {
   "attachments": {},
   "cell_type": "markdown",
   "metadata": {},
   "source": [
    "List elements can be accessed by the assigned index. In python starting index of the list, sequence is 0 and the ending index is (if N elements are there) N-1\n",
    "\n",
    "![list_slicing](assets/List-Slicing.jpg)\n",
    "\n",
    "(*sc:geeksforgeeks.org*)\n",
    "\n",
    "For example :"
   ]
  },
  {
   "cell_type": "code",
   "execution_count": 2,
   "metadata": {},
   "outputs": [
    {
     "name": "stdout",
     "output_type": "stream",
     "text": [
      "John\n"
     ]
    }
   ],
   "source": [
    "print(my_list[3])"
   ]
  },
  {
   "attachments": {},
   "cell_type": "markdown",
   "metadata": {},
   "source": [
    "You can also use slices to access a range of items in a list. For example :"
   ]
  },
  {
   "cell_type": "code",
   "execution_count": 3,
   "metadata": {},
   "outputs": [
    {
     "name": "stdout",
     "output_type": "stream",
     "text": [
      "[1, 2, 'a']\n"
     ]
    }
   ],
   "source": [
    "print(my_list[:3])"
   ]
  },
  {
   "attachments": {},
   "cell_type": "markdown",
   "metadata": {},
   "source": [
    "We can add items to a list using the `append()` method. For example :"
   ]
  },
  {
   "cell_type": "code",
   "execution_count": 8,
   "metadata": {},
   "outputs": [
    {
     "name": "stdout",
     "output_type": "stream",
     "text": [
      "[1, 2, 'a', 'John', 3.14, 'Alex']\n"
     ]
    }
   ],
   "source": [
    "my_list.append('Alex')\n",
    "print(my_list)"
   ]
  },
  {
   "attachments": {},
   "cell_type": "markdown",
   "metadata": {},
   "source": [
    "We can also remove items from a list using the `remove()` method. For example :"
   ]
  },
  {
   "cell_type": "code",
   "execution_count": 9,
   "metadata": {},
   "outputs": [
    {
     "name": "stdout",
     "output_type": "stream",
     "text": [
      "[1, 2, 'a', 'John', 3.14]\n"
     ]
    }
   ],
   "source": [
    "my_list.remove('Alex')\n",
    "print(my_list)"
   ]
  },
  {
   "attachments": {},
   "cell_type": "markdown",
   "metadata": {},
   "source": [
    "We can also use the `del` statement to remove an item from a list. For example :"
   ]
  },
  {
   "cell_type": "code",
   "execution_count": 10,
   "metadata": {},
   "outputs": [
    {
     "name": "stdout",
     "output_type": "stream",
     "text": [
      "[1, 2, 'a', 'John']\n"
     ]
    }
   ],
   "source": [
    "del my_list[-1]\n",
    "print(my_list)"
   ]
  },
  {
   "attachments": {},
   "cell_type": "markdown",
   "metadata": {},
   "source": [
    "This will delete the last item in the list"
   ]
  },
  {
   "attachments": {},
   "cell_type": "markdown",
   "metadata": {},
   "source": [
    "You can use the `len()` function to get the length of a list. For example :"
   ]
  },
  {
   "cell_type": "code",
   "execution_count": 11,
   "metadata": {},
   "outputs": [
    {
     "name": "stdout",
     "output_type": "stream",
     "text": [
      "4\n"
     ]
    }
   ],
   "source": [
    "print(len(my_list))"
   ]
  },
  {
   "attachments": {},
   "cell_type": "markdown",
   "metadata": {},
   "source": [
    "We can iterate over a list using a for loop. For example :"
   ]
  },
  {
   "cell_type": "code",
   "execution_count": 12,
   "metadata": {},
   "outputs": [
    {
     "name": "stdout",
     "output_type": "stream",
     "text": [
      "1\n",
      "2\n",
      "a\n",
      "John\n"
     ]
    }
   ],
   "source": [
    "for item in my_list:\n",
    "    print(item)"
   ]
  },
  {
   "attachments": {},
   "cell_type": "markdown",
   "metadata": {},
   "source": [
    "We can also use the `list()` function to create a list from a sequence of values. For example :"
   ]
  },
  {
   "cell_type": "code",
   "execution_count": 13,
   "metadata": {},
   "outputs": [
    {
     "name": "stdout",
     "output_type": "stream",
     "text": [
      "['h', 'e', 'l', 'l', 'o']\n"
     ]
    }
   ],
   "source": [
    "my_list=list('hello')\n",
    "print(my_list)"
   ]
  },
  {
   "attachments": {},
   "cell_type": "markdown",
   "metadata": {},
   "source": [
    "this will creates a list from the string \"hello\""
   ]
  },
  {
   "attachments": {},
   "cell_type": "markdown",
   "metadata": {},
   "source": [
    "# Tuple"
   ]
  },
  {
   "attachments": {},
   "cell_type": "markdown",
   "metadata": {},
   "source": [
    "A tuple in Python is a data structure that can hold an ordered collection of values. Tuples are similar to lists, but they are immutable, meaning that the values in a tuple cannot be changed once they are added. Just like a List, a Tuple can also contain elements of various types.\n",
    "\n",
    "Some of the advantages of using tuples over lists include:\n",
    "\n",
    "- Tuples are immutable, which means that they cannot be changed once they are created. This can be useful for data that needs to be protected from being changed accidentally.\n",
    "- Tuples are smaller than lists, which can make them more efficient to use in some cases.\n",
    "- Tuples can be used as keys in dictionaries, while lists cannot.\n",
    "\n",
    "Here are some examples of how tuples can be used in Python:\n",
    "\n",
    "- To store a collection of related data, such as the name, age, and address of a person.\n",
    "- To pass multiple arguments to a function.\n",
    "- To return multiple values from a function.\n",
    "- To create a unique identifier for a record in a database.\n",
    "\n",
    "Overall, tuples are a powerful data structure that can be used in a variety of ways in Python.\n",
    "\n",
    "Tuples are created by enclosing a comma-separated list of values in parentheses. For example :"
   ]
  },
  {
   "cell_type": "code",
   "execution_count": 15,
   "metadata": {},
   "outputs": [
    {
     "name": "stdout",
     "output_type": "stream",
     "text": [
      "(1, 2, 3.14, 'a', 'John')\n"
     ]
    }
   ],
   "source": [
    "my_tuple = (1,2,3.14, 'a', 'John')\n",
    "print(my_tuple)"
   ]
  },
  {
   "attachments": {},
   "cell_type": "markdown",
   "metadata": {},
   "source": [
    "Like a list, we can access individual values in a tuple by their index number. The first value in the tuple has an index of 0, the second value has an index of 1, and so on. For example :"
   ]
  },
  {
   "cell_type": "code",
   "execution_count": 16,
   "metadata": {},
   "outputs": [
    {
     "name": "stdout",
     "output_type": "stream",
     "text": [
      "John\n"
     ]
    }
   ],
   "source": [
    "print(my_tuple[-1])"
   ]
  },
  {
   "attachments": {},
   "cell_type": "markdown",
   "metadata": {},
   "source": [
    "We can also use slices to access a range of values in a tuple. For example :"
   ]
  },
  {
   "cell_type": "code",
   "execution_count": 17,
   "metadata": {},
   "outputs": [
    {
     "name": "stdout",
     "output_type": "stream",
     "text": [
      "(1, 2, 3.14)\n"
     ]
    }
   ],
   "source": [
    "print(my_tuple[:3])"
   ]
  },
  {
   "attachments": {},
   "cell_type": "markdown",
   "metadata": {},
   "source": [
    "We can use the `len()` function to get the length of a tuple. For example"
   ]
  },
  {
   "cell_type": "code",
   "execution_count": 18,
   "metadata": {},
   "outputs": [
    {
     "name": "stdout",
     "output_type": "stream",
     "text": [
      "5\n"
     ]
    }
   ],
   "source": [
    "print(len(my_tuple))"
   ]
  },
  {
   "attachments": {},
   "cell_type": "markdown",
   "metadata": {},
   "source": [
    "We can iterate over a tuple using a for loop. For example :"
   ]
  },
  {
   "cell_type": "code",
   "execution_count": 19,
   "metadata": {},
   "outputs": [
    {
     "name": "stdout",
     "output_type": "stream",
     "text": [
      "1\n",
      "2\n",
      "3.14\n",
      "a\n",
      "John\n"
     ]
    }
   ],
   "source": [
    "for item in my_tuple:\n",
    "    print(item)"
   ]
  },
  {
   "attachments": {},
   "cell_type": "markdown",
   "metadata": {},
   "source": [
    "We can Create a Tuple from a list. For example :"
   ]
  },
  {
   "cell_type": "code",
   "execution_count": 20,
   "metadata": {},
   "outputs": [
    {
     "name": "stdout",
     "output_type": "stream",
     "text": [
      "(1, 2, 3, 4)\n"
     ]
    }
   ],
   "source": [
    "my_list = [1,2,3,4]\n",
    "my_tuple = tuple(my_list)\n",
    "print(my_tuple)"
   ]
  },
  {
   "attachments": {},
   "cell_type": "markdown",
   "metadata": {},
   "source": [
    "# Dictionary"
   ]
  },
  {
   "attachments": {},
   "cell_type": "markdown",
   "metadata": {},
   "source": [
    "A dictionary in Python is a data structure that can hold an unordered collection of key-value pairs. The keys are unique, and the values can be of any type.\n",
    "\n",
    "Some of the advantages of using dictionaries over lists include:\n",
    "\n",
    "- Dictionaries are unordered, which means that the order of the keys does not matter. This can be useful for data that does not need to be stored in a specific order.\n",
    "- Dictionaries can be used to store a large number of key-value pairs. This can be useful for data that needs to be stored in a compact form.\n",
    "- Dictionaries can be used to quickly look up the value associated with a key. This can be useful for data that needs to be accessed frequently.\n",
    "\n",
    "Here are some examples of how dictionaries can be used in Python:\n",
    "\n",
    "- To store a collection of related data, such as the name, age, and address of a person.\n",
    "- To map a username to a password.\n",
    "- To store the results of a search query.\n",
    "- To store the configuration settings for an application.\n",
    "\n",
    "Overall, dictionaries are a powerful data structure that can be used in a variety of ways in Python.\n",
    "\n",
    "Dictionaries are created by enclosing a comma-separated list of key-value pairs in curly braces ({}). For example :"
   ]
  },
  {
   "cell_type": "code",
   "execution_count": 38,
   "metadata": {},
   "outputs": [
    {
     "name": "stdout",
     "output_type": "stream",
     "text": [
      "{'John': 24, 'Alex': 25, 'Jennifer': 19}\n"
     ]
    }
   ],
   "source": [
    "my_dict = {\n",
    "    \"John\" : 24,\n",
    "    \"Alex\" : 25,\n",
    "    \"Jennifer\" : 19\n",
    "}\n",
    "\n",
    "print(my_dict)"
   ]
  },
  {
   "attachments": {},
   "cell_type": "markdown",
   "metadata": {},
   "source": [
    "We also can add list as a value in dictionary. For example :"
   ]
  },
  {
   "cell_type": "code",
   "execution_count": 39,
   "metadata": {},
   "outputs": [
    {
     "name": "stdout",
     "output_type": "stream",
     "text": [
      "{'John': [22, 70, 185]}\n"
     ]
    }
   ],
   "source": [
    "dict_list = {\n",
    "    'John' : [22, 70, 185]\n",
    "}\n",
    "\n",
    "print(dict_list)"
   ]
  },
  {
   "attachments": {},
   "cell_type": "markdown",
   "metadata": {},
   "source": [
    "\n",
    "We can access the value associated with a key by using the square bracket notation. For example :"
   ]
  },
  {
   "cell_type": "code",
   "execution_count": 40,
   "metadata": {},
   "outputs": [
    {
     "name": "stdout",
     "output_type": "stream",
     "text": [
      "24\n"
     ]
    }
   ],
   "source": [
    "print(my_dict['John'])"
   ]
  },
  {
   "attachments": {},
   "cell_type": "markdown",
   "metadata": {},
   "source": [
    "We can access element using `get()` method. For example :"
   ]
  },
  {
   "cell_type": "code",
   "execution_count": 41,
   "metadata": {},
   "outputs": [
    {
     "name": "stdout",
     "output_type": "stream",
     "text": [
      "24\n"
     ]
    }
   ],
   "source": [
    "print(my_dict.get('John'))"
   ]
  },
  {
   "attachments": {},
   "cell_type": "markdown",
   "metadata": {},
   "source": [
    "We can also use the in operator to check if a key exists in a dictionary. For example :"
   ]
  },
  {
   "cell_type": "code",
   "execution_count": 42,
   "metadata": {},
   "outputs": [
    {
     "name": "stdout",
     "output_type": "stream",
     "text": [
      "John is exist\n"
     ]
    }
   ],
   "source": [
    "if 'John' in my_dict:\n",
    "    print(\"John is exist\")"
   ]
  },
  {
   "attachments": {},
   "cell_type": "markdown",
   "metadata": {},
   "source": [
    "We can add new key-value pairs to a dictionary using the assignment operator. For example :"
   ]
  },
  {
   "cell_type": "code",
   "execution_count": 43,
   "metadata": {},
   "outputs": [
    {
     "name": "stdout",
     "output_type": "stream",
     "text": [
      "{'John': 24, 'Alex': 25, 'Jennifer': 19, 'Lisa': 22}\n"
     ]
    }
   ],
   "source": [
    "my_dict['Lisa'] = 22\n",
    "print(my_dict)"
   ]
  },
  {
   "attachments": {},
   "cell_type": "markdown",
   "metadata": {},
   "source": [
    "We can also remove key-value pairs from a dictionary using the `del` statement. For example :"
   ]
  },
  {
   "cell_type": "code",
   "execution_count": 44,
   "metadata": {},
   "outputs": [
    {
     "name": "stdout",
     "output_type": "stream",
     "text": [
      "{'Alex': 25, 'Jennifer': 19, 'Lisa': 22}\n"
     ]
    }
   ],
   "source": [
    "del my_dict['John']\n",
    "print(my_dict)"
   ]
  },
  {
   "attachments": {},
   "cell_type": "markdown",
   "metadata": {},
   "source": [
    "We can use the `len()` function to get the number of key-value pairs in a dictionary. For example :"
   ]
  },
  {
   "cell_type": "code",
   "execution_count": 45,
   "metadata": {},
   "outputs": [
    {
     "name": "stdout",
     "output_type": "stream",
     "text": [
      "3\n"
     ]
    }
   ],
   "source": [
    "print(len(my_dict))"
   ]
  },
  {
   "attachments": {},
   "cell_type": "markdown",
   "metadata": {},
   "source": [
    "We can iterate over the keys in a dictionary using a for loop. For example"
   ]
  },
  {
   "cell_type": "code",
   "execution_count": 46,
   "metadata": {},
   "outputs": [
    {
     "name": "stdout",
     "output_type": "stream",
     "text": [
      "Alex\n",
      "Jennifer\n",
      "Lisa\n"
     ]
    }
   ],
   "source": [
    "for key in my_dict:\n",
    "    print(key)"
   ]
  },
  {
   "attachments": {},
   "cell_type": "markdown",
   "metadata": {},
   "source": [
    "We can also iterate over the values in a dictionary using a for loop. For example :"
   ]
  },
  {
   "cell_type": "code",
   "execution_count": 47,
   "metadata": {},
   "outputs": [
    {
     "name": "stdout",
     "output_type": "stream",
     "text": [
      "25\n",
      "19\n",
      "22\n"
     ]
    }
   ],
   "source": [
    "for value in my_dict.values():\n",
    "    print(value)"
   ]
  },
  {
   "attachments": {},
   "cell_type": "markdown",
   "metadata": {},
   "source": [
    "We can make a dictionary using Dictionary Comprehension. For example :"
   ]
  },
  {
   "cell_type": "code",
   "execution_count": 48,
   "metadata": {},
   "outputs": [
    {
     "name": "stdout",
     "output_type": "stream",
     "text": [
      "{1: 1, 2: 4, 3: 9, 4: 16}\n"
     ]
    }
   ],
   "source": [
    "dict_comprehension = {x:x**2 for x in [1,2,3,4]}\n",
    "print(dict_comprehension)"
   ]
  },
  {
   "attachments": {},
   "cell_type": "markdown",
   "metadata": {},
   "source": [
    "# Set"
   ]
  },
  {
   "attachments": {},
   "cell_type": "markdown",
   "metadata": {},
   "source": [
    "A set in Python is an unordered collection of unique elements. Sets are similar to lists, but they have a few key differences:\n",
    "\n",
    "- Sets are unordered, which means that the order of the elements does not matter.\n",
    "- Sets are unique, which means that no element can appear in a set more than once.\n",
    "- Sets are mutable, which means that the elements in a set can be changed.\n",
    "- Sets are created using curly braces {}. The elements in a set are separated by commas.\n",
    "\n",
    "Sets are basically used to include membership testing and eliminating duplicate entries. The data structure used in this is Hashing, a popular technique to perform insertion, deletion, and traversal in O(1) on average.\n",
    "\n",
    "If Multiple values are present at the same index position, then the value is appended to that index position, to form a Linked List. In, CPython Sets are implemented using a dictionary with dummy variables, where key beings the members set with greater optimizations to the time complexity.\n",
    "\n",
    "**Set Implementation :**\n",
    "\n",
    "![set_implementation](assets/set-implementation.png)\n",
    "\n",
    "**Sets with Numerous operations on a single HashTable :**\n",
    "\n",
    "![set_single_hash](assets/Hashing-python.png)\n",
    "\n",
    "Some of the advantages of using sets over lists include:\n",
    "\n",
    "- Sets are unordered, which means that the order of the elements does not matter. This can be useful for data that does not need to be stored in a specific order.\n",
    "- Sets are unique, which means that no element can appear in a set more than once. This can be useful for data that needs to be stored without duplicates.\n",
    "- Sets are mutable, which means that the elements in a set can be changed. This can be useful for data that needs to be updated frequently.\n",
    "\n",
    "Here are some examples of how sets can be used in Python:\n",
    "\n",
    "- To store a collection of distinct values, such as the unique usernames in a system.\n",
    "- To find the intersection of two sets, which is the set of elements that are in both sets.\n",
    "- To find the union of two sets, which is the set of elements that are in either set.\n",
    "- To find the difference of two sets, which is the set of elements that are in the first set but not in the second set.\n",
    "\n",
    "For example :"
   ]
  },
  {
   "cell_type": "code",
   "execution_count": 49,
   "metadata": {},
   "outputs": [
    {
     "name": "stdout",
     "output_type": "stream",
     "text": [
      "{1, 2, 3}\n"
     ]
    }
   ],
   "source": [
    "my_set = {1,2,3}\n",
    "print(my_set)"
   ]
  },
  {
   "attachments": {},
   "cell_type": "markdown",
   "metadata": {},
   "source": [
    "We can add elements to a set using the `add()` method. For example :"
   ]
  },
  {
   "cell_type": "code",
   "execution_count": 51,
   "metadata": {},
   "outputs": [
    {
     "name": "stdout",
     "output_type": "stream",
     "text": [
      "{1, 2, 3, 4}\n"
     ]
    }
   ],
   "source": [
    "my_set.add(4)\n",
    "print(my_set)"
   ]
  },
  {
   "attachments": {},
   "cell_type": "markdown",
   "metadata": {},
   "source": [
    "We can also remove elements from a set using the `remove()` method. For example :"
   ]
  },
  {
   "cell_type": "code",
   "execution_count": 52,
   "metadata": {},
   "outputs": [
    {
     "name": "stdout",
     "output_type": "stream",
     "text": [
      "{2, 3, 4}\n"
     ]
    }
   ],
   "source": [
    "my_set.remove(1)\n",
    "print(my_set)"
   ]
  },
  {
   "attachments": {},
   "cell_type": "markdown",
   "metadata": {},
   "source": [
    "We can use the `len()` function to get the number of elements in a set. For example :"
   ]
  },
  {
   "cell_type": "code",
   "execution_count": 53,
   "metadata": {},
   "outputs": [
    {
     "name": "stdout",
     "output_type": "stream",
     "text": [
      "3\n"
     ]
    }
   ],
   "source": [
    "print(len(my_set))"
   ]
  },
  {
   "attachments": {},
   "cell_type": "markdown",
   "metadata": {},
   "source": [
    "We can iterate over a set using a for loop. For example :"
   ]
  },
  {
   "cell_type": "code",
   "execution_count": 54,
   "metadata": {},
   "outputs": [
    {
     "name": "stdout",
     "output_type": "stream",
     "text": [
      "2\n",
      "3\n",
      "4\n"
     ]
    }
   ],
   "source": [
    "for element in my_set:\n",
    "    print(element)"
   ]
  },
  {
   "attachments": {},
   "cell_type": "markdown",
   "metadata": {},
   "source": [
    "# Frozen Sets"
   ]
  },
  {
   "attachments": {},
   "cell_type": "markdown",
   "metadata": {},
   "source": [
    "A frozen set is an immutable version of a set. It is created using the frozenset() function. Frozen sets are useful for data that needs to be stored without duplicates and cannot be changed, such as the set of unique usernames in a system.\n",
    "\n",
    "Some of the advantages of using frozen sets over sets include:\n",
    "\n",
    "- Frozen sets are immutable, which means that they cannot be changed once they are created. This can be useful for data that needs to be protected from being changed accidentally.\n",
    "- Frozen sets are smaller than sets, which can make them more efficient to use in some cases.\n",
    "- Frozen sets can be used as keys in dictionaries, while sets cannot.\n",
    "\n",
    "Here are some examples of how frozen sets can be used in Python:\n",
    "\n",
    "- To store a collection of distinct values, such as the unique usernames in a system.\n",
    "- To find the intersection of two frozen sets, which is the set of elements that are in both frozen sets.\n",
    "- To find the union of two frozen sets, which is the set of elements that are in either frozen set.\n",
    "- To find the difference of two frozen sets, which is the set of elements that are in the first frozen set but not in the second frozen set.\n",
    "\n",
    "\n",
    "To create a frozen set, you pass an iterable to the frozenset() function. For example :"
   ]
  },
  {
   "cell_type": "code",
   "execution_count": 66,
   "metadata": {},
   "outputs": [
    {
     "name": "stdout",
     "output_type": "stream",
     "text": [
      "frozenset({1, 2, 3})\n"
     ]
    }
   ],
   "source": [
    "my_frozen_set = frozenset((1,2,3))\n",
    "print(my_frozen_set)"
   ]
  },
  {
   "attachments": {},
   "cell_type": "markdown",
   "metadata": {},
   "source": [
    "You cannot add or remove elements from a frozen set. If you try to do so, you will get an error. For example :"
   ]
  },
  {
   "cell_type": "code",
   "execution_count": 59,
   "metadata": {},
   "outputs": [
    {
     "ename": "AttributeError",
     "evalue": "'frozenset' object has no attribute 'add'",
     "output_type": "error",
     "traceback": [
      "\u001b[1;31m---------------------------------------------------------------------------\u001b[0m",
      "\u001b[1;31mAttributeError\u001b[0m                            Traceback (most recent call last)",
      "Cell \u001b[1;32mIn[59], line 1\u001b[0m\n\u001b[1;32m----> 1\u001b[0m my_frozen_set\u001b[39m.\u001b[39;49madd(\u001b[39m4\u001b[39m)\n",
      "\u001b[1;31mAttributeError\u001b[0m: 'frozenset' object has no attribute 'add'"
     ]
    }
   ],
   "source": [
    "my_frozen_set.add(4)"
   ]
  },
  {
   "attachments": {},
   "cell_type": "markdown",
   "metadata": {},
   "source": [
    "We can use the len() function to get the number of elements in a frozen set. For example :"
   ]
  },
  {
   "cell_type": "code",
   "execution_count": 60,
   "metadata": {},
   "outputs": [
    {
     "name": "stdout",
     "output_type": "stream",
     "text": [
      "3\n"
     ]
    }
   ],
   "source": [
    "print(len(my_frozen_set))"
   ]
  },
  {
   "attachments": {},
   "cell_type": "markdown",
   "metadata": {},
   "source": [
    "We can iterate over a frozen set using a for loop. For example :"
   ]
  },
  {
   "cell_type": "code",
   "execution_count": 61,
   "metadata": {},
   "outputs": [
    {
     "name": "stdout",
     "output_type": "stream",
     "text": [
      "1\n",
      "2\n",
      "3\n"
     ]
    }
   ],
   "source": [
    "for element in my_frozen_set:\n",
    "    print(element)"
   ]
  },
  {
   "attachments": {},
   "cell_type": "markdown",
   "metadata": {},
   "source": [
    "# Strings"
   ]
  }
 ],
 "metadata": {
  "kernelspec": {
   "display_name": "base",
   "language": "python",
   "name": "python3"
  },
  "language_info": {
   "codemirror_mode": {
    "name": "ipython",
    "version": 3
   },
   "file_extension": ".py",
   "mimetype": "text/x-python",
   "name": "python",
   "nbconvert_exporter": "python",
   "pygments_lexer": "ipython3",
   "version": "3.10.9"
  },
  "orig_nbformat": 4
 },
 "nbformat": 4,
 "nbformat_minor": 2
}
